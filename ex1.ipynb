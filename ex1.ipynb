{
 "cells": [
  {
   "cell_type": "markdown",
   "metadata": {},
   "source": [
    "Please refer to https://www.pythoncentral.io/how-to-generate-a-random-number-in-python/ \n",
    "to understand random number generation in Python.\n",
    "\n",
    "This random number generation provides a computer-based approach to introducing randomness.\n",
    "\n",
    "For background, you can find out more about random number generation from\n",
    "https://en.wikipedia.org/wiki/Random_number_generation\n",
    "\n",
    "The example below demonstrates the use of random number generation to create randomness \n",
    "which is a core concept in computer simulation.\n",
    "\n",
    "It demonstrates the rolling of a number of dice over a number of times or iterations, \n",
    "and since a die contains integers 1 to 6, an integer between 1 and 6 is then randomly selected.\n",
    "\n",
    "The output shows the 2 inputs of the number of dice (eg. 2) and the the number of iterations (eg. 9).\n",
    "\n",
    "The code then shows the result of 9 rolls (2 rows for each roll) of the first die and second die \n",
    "with each integer randomly chosen and printed."
   ]
  },
  {
   "cell_type": "code",
   "execution_count": 3,
   "metadata": {},
   "outputs": [
    {
     "name": "stdout",
     "output_type": "stream",
     "text": [
      "Enter number of dice: 5\n",
      "Enter number of iteration: 3\n",
      "0 0 4\n",
      "0 1 3\n",
      "0 2 6\n",
      "0 3 5\n",
      "0 4 3\n",
      "1 0 4\n",
      "1 1 5\n",
      "1 2 3\n",
      "1 3 3\n",
      "1 4 4\n",
      "2 0 6\n",
      "2 1 3\n",
      "2 2 4\n",
      "2 3 1\n",
      "2 4 2\n"
     ]
    }
   ],
   "source": [
    "import random\n",
    "\n",
    "num_dice = int(input(\"Enter number of dice: \"))\n",
    "num_iteration = int(input(\"Enter number of iteration: \"))\n",
    "for i in range(num_iteration):\n",
    "    for j in range(num_dice):\n",
    "        print(i, j, random.randint(1,6))"
   ]
  }
 ],
 "metadata": {
  "kernelspec": {
   "display_name": "Python 3.6",
   "language": "python",
   "name": "python36"
  },
  "language_info": {
   "codemirror_mode": {
    "name": "ipython",
    "version": 3
   },
   "file_extension": ".py",
   "mimetype": "text/x-python",
   "name": "python",
   "nbconvert_exporter": "python",
   "pygments_lexer": "ipython3",
   "version": "3.6.3"
  }
 },
 "nbformat": 4,
 "nbformat_minor": 2
}
